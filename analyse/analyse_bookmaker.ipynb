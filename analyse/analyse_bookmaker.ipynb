{
 "cells": [
  {
   "cell_type": "code",
   "execution_count": 23,
   "metadata": {},
   "outputs": [],
   "source": [
    "import pandas as pd\n",
    "import numpy as np\n",
    "from datetime import datetime,timedelta\n",
    "import matplotlib.pyplot as plt\n",
    "from numpy.random import default_rng\n",
    "\n",
    "#dataset ou joueur 1 gagne tout le temps\n",
    "df2=pd.read_csv(\"./../data_formatted/training_dgl_dataset.csv\",low_memory=False)\n",
    "df2.match_date = df2.match_date.apply(lambda x:datetime.strptime(x, '%Y-%m-%d'))"
   ]
  },
  {
   "cell_type": "code",
   "execution_count": 24,
   "metadata": {},
   "outputs": [
    {
     "data": {
      "text/plain": [
       "match_date\n",
       "2001         NaN\n",
       "2002    0.572597\n",
       "2003    0.557673\n",
       "2004    0.556958\n",
       "2005    0.558795\n",
       "2006    0.557902\n",
       "2007    0.543543\n",
       "2008    0.545982\n",
       "2009    0.554220\n",
       "2010    0.555051\n",
       "2011    0.558128\n",
       "2012    0.544007\n",
       "2013    0.540912\n",
       "2014    0.555634\n",
       "2015    0.552932\n",
       "2016    0.540670\n",
       "2017    0.534456\n",
       "2018    0.545328\n",
       "2019    0.540345\n",
       "2020    0.539809\n",
       "2021    0.539164\n",
       "2022    0.541810\n",
       "2023    0.541055\n",
       "Name: player1_oddsB365, dtype: float64"
      ]
     },
     "execution_count": 24,
     "metadata": {},
     "output_type": "execute_result"
    }
   ],
   "source": [
    "# Evolution de la cote du joueur gagnant année par année\n",
    "1/df2.groupby(df2.match_date.dt.year)[\"player1_oddsB365\"].mean()"
   ]
  },
  {
   "cell_type": "code",
   "execution_count": 5,
   "metadata": {},
   "outputs": [
    {
     "data": {
      "text/plain": [
       "1311"
      ]
     },
     "execution_count": 5,
     "metadata": {},
     "output_type": "execute_result"
    }
   ],
   "source": [
    "# optionnel : limité le nombre de match, chaque joueur doit avoir fait au moins X matchs\n",
    "X = 6\n",
    "df2 = df2[(df2.player1_plays > X) & (df2.player2_plays>X)]"
   ]
  },
  {
   "cell_type": "code",
   "execution_count": 25,
   "metadata": {},
   "outputs": [
    {
     "name": "stdout",
     "output_type": "stream",
     "text": [
      "51981 4937 9.5\n"
     ]
    }
   ],
   "source": [
    "# Calcul du ROI en fonction du ratio de parties gagnées (en %)\n",
    "ratio = 75\n",
    "total = df2.shape[0]\n",
    "df2 = df2.sort_values(by=\"player1_oddsB365\")\n",
    "won = round(ratio/100 * df2.shape[0])\n",
    "\n",
    "moneylost=total\n",
    "moneywon=0\n",
    "gain = round(df2.iloc[:won][\"player1_oddsB365\"].sum()-moneylost)\n",
    "print(total, gain, round(gain/total*100,2))"
   ]
  }
 ],
 "metadata": {
  "kernelspec": {
   "display_name": "env",
   "language": "python",
   "name": "python3"
  },
  "language_info": {
   "codemirror_mode": {
    "name": "ipython",
    "version": 3
   },
   "file_extension": ".py",
   "mimetype": "text/x-python",
   "name": "python",
   "nbconvert_exporter": "python",
   "pygments_lexer": "ipython3",
   "version": "3.11.2"
  },
  "orig_nbformat": 4
 },
 "nbformat": 4,
 "nbformat_minor": 2
}
