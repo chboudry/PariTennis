{
 "cells": [
  {
   "cell_type": "code",
   "execution_count": 1,
   "metadata": {},
   "outputs": [],
   "source": [
    "import os.path as osp\n",
    "\n",
    "import torch\n",
    "from sklearn.metrics import roc_auc_score\n",
    "\n",
    "import torch_geometric.transforms as T\n",
    "from torch_geometric.datasets import Planetoid\n",
    "from torch_geometric.nn import GCNConv\n",
    "from torch_geometric.utils import negative_sampling\n",
    "\n",
    "if torch.cuda.is_available():\n",
    "    device = torch.device('cuda')\n",
    "elif hasattr(torch.backends, 'mps') and torch.backends.mps.is_available():\n",
    "    device = torch.device('mps')\n",
    "else:\n",
    "    device = torch.device('cpu')\n",
    "\n",
    "import pandas as pd\n",
    "import matplotlib.pyplot as plt\n",
    "import networkx as nx\n",
    "import torch.nn as nn\n",
    "import torch.nn.functional as F\n",
    "import numpy as np\n",
    "from datetime import datetime\n",
    "\n",
    "df_players = pd.read_csv(\"./../data_scrapped/atp_players.csv\")\n",
    "df_matchs = pd.read_csv(\"./../data_formatted/training_dgl_dataset.csv\")"
   ]
  },
  {
   "cell_type": "code",
   "execution_count": 2,
   "metadata": {},
   "outputs": [],
   "source": [
    "# Les 10 premières années sont utilisées comme base pour le graphe initial\n",
    "s = \"20110101\"\n",
    "s_datetime = datetime.strptime(s, '%Y%m%d')\n",
    "df_matchs.match_date = df_matchs.match_date.apply(lambda x:datetime.strptime(x, '%Y-%m-%d'))\n",
    "df_matchs_filtered = df_matchs[df_matchs.match_date < s_datetime]"
   ]
  },
  {
   "cell_type": "code",
   "execution_count": 3,
   "metadata": {},
   "outputs": [],
   "source": [
    "#On construit le premier graphe\n",
    "\n",
    "# lecture des données attendues\n",
    "# tensor1[1] -> tensor2[1] \n",
    "# le player index en tensor1 a joué contre le player au meme index en tensor 2\n",
    "# y stocke le résultat du match\n",
    "\n",
    "tensor1=[]\n",
    "tensor2=[]\n",
    "\n",
    "for index,row in df_players.iterrows():\n",
    "    winmatchs = df_matchs_filtered[df_matchs_filtered.player1_id == row.player_id]\n",
    "    #print(len(winmatchs))\n",
    "    if len(winmatchs) > 0:\n",
    "        #print(row.player_id)\n",
    "        for index2, row2 in winmatchs.iterrows():\n",
    "                tensor1.append(index)\n",
    "                tensor2.append(df_players.loc[df_players.player_id == row2.player2_id].index[0])"
   ]
  },
  {
   "cell_type": "code",
   "execution_count": 14,
   "metadata": {},
   "outputs": [],
   "source": [
    "# Pour chaque match après 2010, on calcule le nombre de chemin du joueur A au joueur B et vice versa et on l'ajoute comme feature\n",
    "# puis on ajoute le match au graphe et on fait le match suivant\n",
    "\n",
    "import networkx as nx\n",
    "G = nx.DiGraph()\n",
    "G.add_nodes_from(set(tensor1 + tensor2))\n",
    "\n",
    "for i in range(0,len(tensor1),1):\n",
    "    G.add_edge(tensor1[i], tensor2[i])"
   ]
  },
  {
   "cell_type": "code",
   "execution_count": 15,
   "metadata": {},
   "outputs": [],
   "source": [
    "def all_simple_paths(adjlist, start, end, path):\n",
    "    path = path + (start,)\n",
    "    if start == end:\n",
    "        return [path]\n",
    "    paths = []\n",
    "    for child in adjlist[start]:\n",
    "\n",
    "        if child not in path:\n",
    "\n",
    "            child_paths = all_simple_paths(tuple(adjlist), child, end, path)\n",
    "            paths.extend(child_paths)\n",
    "    return paths"
   ]
  },
  {
   "cell_type": "code",
   "execution_count": 39,
   "metadata": {},
   "outputs": [],
   "source": [
    "# https://networkx.org/documentation/stable/reference/algorithms/generated/networkx.algorithms.simple_paths.all_simple_paths.html#networkx.algorithms.simple_paths.all_simple_paths\n",
    "\n",
    "# Les 10 premières années sont utilisées comme base pour le graphe initial\n",
    "# donc cette fois ci on utilise les années ultérieures\n",
    "s = \"20110101\"\n",
    "s_datetime = datetime.strptime(s, '%Y%m%d')\n",
    "df_matchs_filtered = df_matchs[df_matchs.match_date > s_datetime]\n",
    "\n",
    "e = \"20120101\"\n",
    "e_datetime = datetime.strptime(e, '%Y%m%d')\n",
    "\n",
    "df_matchs_filtered = df_matchs_filtered[df_matchs_filtered.match_date < e_datetime]\n",
    "\n",
    "# on veut récupérer les index de nos joueurs\n",
    "dfwinner_1 = []\n",
    "dfwinner_2 = []\n",
    "dfwinner_3 = []\n",
    "dfwinner_4 = []\n",
    "dfwinner_5 = []\n",
    "dfloser_1 = []\n",
    "dfloser_2 = []\n",
    "dfloser_3 = []\n",
    "dfloser_4 = []\n",
    "dfloser_5 = []\n",
    "for i,match in df_matchs_filtered.iterrows() :\n",
    "    for index,row in df_players.iterrows():\n",
    "        cpt=0\n",
    "        if match.player1_id == row.player_id:\n",
    "            player1 = index\n",
    "            cpt+=1\n",
    "        if match.player2_id == row.player_id:\n",
    "            player2 = index\n",
    "            cpt+=1\n",
    "        if cpt==2:\n",
    "            break\n",
    "    if (G.has_node(player1) & G.has_node(player2)):\n",
    "        asp1 = nx.all_simple_paths(G, player1, player2, 4) #last parameter is the arbitrary depth cutoff  \n",
    "        winner_1 = 0\n",
    "        winner_2 = 0\n",
    "        winner_3 = 0\n",
    "        winner_4 = 0\n",
    "        winner_5 = 0\n",
    "        for chem in list(asp1):\n",
    "            if (len(chem)==1):\n",
    "                winner_1+=1\n",
    "            if (len(chem)==2):\n",
    "                winner_2+=1\n",
    "            if (len(chem)==3):\n",
    "                winner_3+=1\n",
    "            elif (len(chem)==4):\n",
    "                winner_4+=1\n",
    "            elif (len(chem)==5):\n",
    "                winner_5+=1\n",
    "        asp2 = nx.all_simple_paths(G, player2, player1, 4) #last parameter is the arbitrary depth cutoff\n",
    "        loser_1 = 0\n",
    "        loser_2 = 0\n",
    "        loser_3 = 0\n",
    "        loser_4 = 0\n",
    "        loser_5 = 0\n",
    "        for chem in list(asp2):\n",
    "            if (len(chem)==1):\n",
    "                loser_1+=1\n",
    "            if (len(chem)==2):\n",
    "                loser_2+=1\n",
    "            if (len(chem)==3):\n",
    "                loser_3+=1\n",
    "            elif (len(chem)==4):\n",
    "                loser_4+=1\n",
    "            elif (len(chem)==5):\n",
    "                loser_5+=1\n",
    "        dfwinner_1.append(winner_1)\n",
    "        dfwinner_2.append(winner_2)\n",
    "        dfwinner_3.append(winner_3)\n",
    "        dfwinner_4.append(winner_4)\n",
    "        dfwinner_5.append(winner_5)\n",
    "        dfloser_1.append(loser_1)\n",
    "        dfloser_2.append(loser_2)\n",
    "        dfloser_3.append(loser_3)\n",
    "        dfloser_4.append(loser_4)\n",
    "        dfloser_5.append(loser_5)\n",
    "    else:\n",
    "        dfwinner_1.append(np.nan)\n",
    "        dfwinner_2.append(np.nan)\n",
    "        dfwinner_3.append(np.nan)\n",
    "        dfwinner_4.append(np.nan)\n",
    "        dfwinner_5.append(np.nan)\n",
    "        dfloser_1.append(np.nan)\n",
    "        dfloser_2.append(np.nan)\n",
    "        dfloser_3.append(np.nan)\n",
    "        dfloser_4.append(np.nan)\n",
    "        dfloser_5.append(np.nan)          \n",
    "\n",
    "\n"
   ]
  },
  {
   "cell_type": "code",
   "execution_count": 40,
   "metadata": {},
   "outputs": [],
   "source": [
    "df_matchs_filtered[\"dfwinner_1\"] = dfwinner_1\n",
    "df_matchs_filtered[\"dfwinner_2\"] = dfwinner_2\n",
    "df_matchs_filtered[\"dfwinner_3\"] = dfwinner_3\n",
    "df_matchs_filtered[\"dfwinner_4\"] = dfwinner_4\n",
    "df_matchs_filtered[\"dfwinner_5\"] = dfwinner_5\n",
    "\n",
    "df_matchs_filtered[\"dfloser_1\"] = dfloser_1\n",
    "df_matchs_filtered[\"dfloser_2\"] = dfloser_2\n",
    "df_matchs_filtered[\"dfloser_3\"] = dfloser_3\n",
    "df_matchs_filtered[\"dfloser_4\"] = dfloser_4\n",
    "df_matchs_filtered[\"dfloser_5\"] = dfloser_5\n"
   ]
  },
  {
   "cell_type": "code",
   "execution_count": 42,
   "metadata": {},
   "outputs": [],
   "source": [
    "df_matchs_filtered.to_csv(\"./../data_formatted/training_dgl2_dataset.csv\", index= False)"
   ]
  },
  {
   "cell_type": "code",
   "execution_count": 43,
   "metadata": {},
   "outputs": [
    {
     "data": {
      "text/plain": [
       "2354"
      ]
     },
     "execution_count": 43,
     "metadata": {},
     "output_type": "execute_result"
    }
   ],
   "source": [
    "len(df_matchs_filtered)"
   ]
  },
  {
   "cell_type": "code",
   "execution_count": 60,
   "metadata": {},
   "outputs": [
    {
     "data": {
      "text/plain": [
       "1503"
      ]
     },
     "execution_count": 60,
     "metadata": {},
     "output_type": "execute_result"
    }
   ],
   "source": [
    "len(df_matchs_filtered[(df_matchs_filtered[\"dfwinner_1\"] * 10000 \n",
    "                       + df_matchs_filtered[\"dfwinner_2\"] * 1500 \n",
    "                       + df_matchs_filtered[\"dfwinner_3\"] * 100\n",
    "                        + df_matchs_filtered[\"dfwinner_4\"] \n",
    "                        + df_matchs_filtered[\"dfwinner_5\"] )\n",
    "                        > (df_matchs_filtered[\"dfloser_1\"] * 10000 \n",
    "                       + df_matchs_filtered[\"dfloser_2\"] * 5000 \n",
    "                       + df_matchs_filtered[\"dfloser_3\"] * 100\n",
    "                        + df_matchs_filtered[\"dfloser_4\"] \n",
    "                        + df_matchs_filtered[\"dfloser_5\"])])"
   ]
  },
  {
   "cell_type": "code",
   "execution_count": 49,
   "metadata": {},
   "outputs": [
    {
     "name": "stdout",
     "output_type": "stream",
     "text": [
      "0.6461342395921835\n"
     ]
    }
   ],
   "source": [
    "print(1521/2354)"
   ]
  },
  {
   "cell_type": "code",
   "execution_count": 47,
   "metadata": {},
   "outputs": [
    {
     "data": {
      "text/plain": [
       "242"
      ]
     },
     "execution_count": 47,
     "metadata": {},
     "output_type": "execute_result"
    }
   ],
   "source": [
    "len(df_matchs_filtered[df_matchs_filtered[\"dfwinner_2\"] < df_matchs_filtered[\"dfloser_2\"]])"
   ]
  },
  {
   "cell_type": "code",
   "execution_count": 26,
   "metadata": {},
   "outputs": [
    {
     "data": {
      "text/plain": [
       "86"
      ]
     },
     "execution_count": 26,
     "metadata": {},
     "output_type": "execute_result"
    }
   ],
   "source": [
    "        lasp2 = len(list(asp2))\n",
    "        print(player1, player2, lasp1, lasp2)\n",
    "        if (lasp1 > lasp2):\n",
    "            winner_have_more+=1\n",
    "        else:\n",
    "            winner_have_less+=1\n",
    "        print(\"current count : \", winner_have_more, winner_have_less)"
   ]
  },
  {
   "cell_type": "code",
   "execution_count": 19,
   "metadata": {},
   "outputs": [],
   "source": [
    "s = \"20110101\"\n",
    "s_datetime = datetime.strptime(s, '%Y%m%d')\n",
    "df_matchs_filtered = df_matchs[df_matchs.match_date > s_datetime]\n",
    "\n",
    "e = \"20120101\"\n",
    "e_datetime = datetime.strptime(e, '%Y%m%d')\n",
    "\n",
    "df_matchs_filtered = df_matchs_filtered[df_matchs_filtered.match_date < e_datetime]"
   ]
  },
  {
   "cell_type": "code",
   "execution_count": null,
   "metadata": {},
   "outputs": [],
   "source": [
    "    \n",
    "    if (len(list(asp1)) > len(list(asp2))) :\n",
    "        winner_have_more +=1\n",
    "    else:\n",
    "        winner_have_less+=1\n",
    "    "
   ]
  }
 ],
 "metadata": {
  "kernelspec": {
   "display_name": "env",
   "language": "python",
   "name": "python3"
  },
  "language_info": {
   "codemirror_mode": {
    "name": "ipython",
    "version": 3
   },
   "file_extension": ".py",
   "mimetype": "text/x-python",
   "name": "python",
   "nbconvert_exporter": "python",
   "pygments_lexer": "ipython3",
   "version": "3.11.2"
  }
 },
 "nbformat": 4,
 "nbformat_minor": 2
}
