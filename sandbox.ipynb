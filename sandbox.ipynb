{
 "cells": [
  {
   "cell_type": "code",
   "execution_count": 20,
   "metadata": {},
   "outputs": [],
   "source": [
    "from lxml import html\n",
    "import requests\n",
    "import re\n",
    "import csv\n",
    "import time \n",
    "import pandas as pd \n",
    "import numpy as np\n",
    "from datetime import datetime\n",
    "from bs4 import BeautifulSoup as bs\n",
    "from selenium import webdriver \n",
    "from selenium.webdriver import Chrome, ChromeOptions\n",
    "from selenium.webdriver.chrome.service import Service \n",
    "from selenium.webdriver.common.by import By \n",
    "from webdriver_manager.chrome import ChromeDriverManager\n",
    "\n",
    "def html_parse_tree(url):\n",
    "    page = requests.get(url)\n",
    "    tree = html.fromstring(page.content)\n",
    "    return tree\n",
    "\n",
    "def xpath_parse(tree, xpath):\n",
    "    result = tree.xpath(xpath)\n",
    "    return result\n",
    "\n",
    "def regex_strip_array(array):\n",
    "    for i in range(0, len(array)):\n",
    "        array[i] = regex_strip_string(array[i]).strip()\n",
    "    return array\n",
    "\n",
    "def regex_strip_string(string):\n",
    "    string = re.sub('\\n', '', string).strip()\n",
    "    string = re.sub('\\r', '', string).strip()\n",
    "    string = re.sub('\\t', '', string).strip()\n",
    "    return string\n",
    "\n",
    "def format_spacing(max_spacing, variable):\n",
    "    spacing_count = max_spacing - len(variable)\n",
    "    output = ''\n",
    "    for i in range(0, spacing_count):\n",
    "        output += ' '\n",
    "    return output\n",
    "\n",
    "def fraction_stats(string):\n",
    "    string = string.replace('(', '')\n",
    "    string = string.replace(')', '')\n",
    "    return string.split('/')\n",
    "\n",
    "def add2csv(array, filename):\n",
    "    with open(filename, 'a') as csv_file:\n",
    "        writer = csv.writer(csv_file)\n",
    "        writer.writerow(array)\n",
    "\n",
    "def array2csv(array, filename):\n",
    "    with open(filename, \"w+\") as my_csv:\n",
    "        csvWriter = csv.writer(my_csv, delimiter = ',')\n",
    "        csvWriter.writerows(array)"
   ]
  },
  {
   "cell_type": "code",
   "execution_count": 23,
   "metadata": {},
   "outputs": [
    {
     "name": "stdout",
     "output_type": "stream",
     "text": [
      "['ATP Cup', 'Adelaide 1', 'Melbourne', 'Sydney', 'Adelaide 2', 'Australian Open', 'Cordoba', 'Pune', 'Montpellier', 'Rotterdam', 'Dallas', 'Buenos Aires', 'Rio de Janeiro', 'Doha', 'Delray Beach', 'Marseille', 'Dubai', 'Acapulco', 'Santiago', 'ATP Masters 1000 Indian Wells', 'ATP Masters 1000 Miami', 'Houston', 'Marrakech', 'ATP Masters 1000 Monte Carlo', 'Barcelona', 'Belgrade', 'Estoril', 'Munich', 'ATP Masters 1000 Madrid', 'ATP Masters 1000 Rome', 'Geneva', 'Lyon', 'Roland Garros', 'Stuttgart', \"'s-Hertogenbosch\", 'Halle', \"London / Queen's Club\", 'Mallorca', 'Eastbourne', 'Wimbledon', 'Newport', 'Bastad', 'Hamburg', 'Gstaad', 'Atlanta', 'Kitzbuhel', 'Umag', 'Washington', 'Los Cabos', 'ATP Masters 1000 Canada', 'ATP Masters 1000 Cincinnati', 'Winston-Salem', 'US Open', 'San Diego', 'Metz', 'Laver Cup', 'Seoul', 'Tel Aviv', 'Sofia', 'Tokyo', 'Astana', 'Gijon', 'Florence', 'Antwerp', 'Stockholm', 'Naples', 'Vienna', 'Basel', 'ATP Masters 1000 Paris', 'Intesa Sanpaolo Next Gen ATP Finals', 'Nitto ATP Finals']\n"
     ]
    }
   ],
   "source": [
    "year_url = \"http://www.atptour.com/en/scores/results-archive?year=2022\"\n",
    "url_prefix = \"http://www.atptour.com\"\n",
    "\n",
    "# HTML tree\n",
    "\n",
    "options = ChromeOptions()\n",
    "options.add_argument(\"--headless=new\")\n",
    "options.page_load_strategy = 'normal' \n",
    "chrome_path = \"./bin/chromedriver.exe\" #ChromeDriverManager()#.install() \n",
    "chrome_service = Service(chrome_path) \n",
    "driver = Chrome(options=options, service=chrome_service) \n",
    "driver.implicitly_wait(5)\n",
    "#atpurl = \"https://www.atptour.com/en/scores/current/us-open/560/daily-schedule\"\n",
    "driver.get(year_url) \n",
    "\n",
    "\n",
    "year_tree = html.fromstring(driver.page_source)  #html_parse_tree(year_url)\n",
    "\n",
    "    # Initial XPath to find number of tournaments in a given year\n",
    "tourney_titles_xpath = \"//span[contains(@class, 'tourney-title')]/text()\"\n",
    "tourney_titles_parsed = xpath_parse(year_tree, tourney_titles_xpath)\n",
    "tourney_titles_cleaned = regex_strip_array(tourney_titles_parsed)\n",
    "\n",
    "# If no tournaments found in <span> tags try find in <a> tags\n",
    "if len(tourney_titles_cleaned) == 0:\n",
    "    tourney_titles_xpath = \"//a[contains(@class, 'tourney-title')]/text()\"\n",
    "    tourney_titles_parsed = xpath_parse(year_tree, tourney_titles_xpath)\n",
    "    tourney_titles_cleaned = regex_strip_array(tourney_titles_parsed)\n",
    "\n",
    "print(tourney_titles_cleaned)\n",
    "\n",
    "tourney_count = len(tourney_titles_cleaned)\n"
   ]
  },
  {
   "cell_type": "code",
   "execution_count": 30,
   "metadata": {},
   "outputs": [
    {
     "data": {
      "text/plain": [
       "nan"
      ]
     },
     "execution_count": 30,
     "metadata": {},
     "output_type": "execute_result"
    }
   ],
   "source": [
    "import pandas as pd \n",
    "import numpy as np\n",
    "import math\n",
    "matchs = pd.read_csv(\"./data/matchs.csv\")\n",
    "\n",
    "\n",
    "#for index, match in matchs.iterrows():\n",
    " #   print(match.start_date)\n",
    "\n",
    "#matchs.loc[matchs.startdate.isna]\n",
    "\n",
    "match = matchs.iloc[408]\n",
    "math.isnan(match.start_date)"
   ]
  },
  {
   "cell_type": "code",
   "execution_count": null,
   "metadata": {},
   "outputs": [],
   "source": []
  }
 ],
 "metadata": {
  "kernelspec": {
   "display_name": "env",
   "language": "python",
   "name": "python3"
  },
  "language_info": {
   "codemirror_mode": {
    "name": "ipython",
    "version": 3
   },
   "file_extension": ".py",
   "mimetype": "text/x-python",
   "name": "python",
   "nbconvert_exporter": "python",
   "pygments_lexer": "ipython3",
   "version": "3.11.2"
  },
  "orig_nbformat": 4
 },
 "nbformat": 4,
 "nbformat_minor": 2
}
