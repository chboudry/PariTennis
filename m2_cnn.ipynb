{
 "cells": [
  {
   "cell_type": "code",
   "execution_count": 1,
   "metadata": {},
   "outputs": [
    {
     "data": {
      "text/plain": [
       "(38946, 30)"
      ]
     },
     "execution_count": 1,
     "metadata": {},
     "output_type": "execute_result"
    }
   ],
   "source": [
    "import pandas as pd\n",
    "import numpy as np\n",
    "from datetime import datetime,timedelta\n",
    "import matplotlib.pyplot as plt\n",
    "\n",
    "\n",
    "df=pd.read_csv(\"./data_formatted/training_dataset.csv\",low_memory=False)\n",
    "df.match_date = df.match_date.apply(lambda x:datetime.strptime(x, '%Y-%m-%d'))\n",
    "\n",
    "df = df.dropna()\n",
    "df = df[(df.player1_plays > 6) & (df.player2_plays>6)]\n",
    "df.shape"
   ]
  },
  {
   "cell_type": "code",
   "execution_count": 2,
   "metadata": {},
   "outputs": [],
   "source": [
    "from sklearn.model_selection import train_test_split\n",
    "\n",
    "X = df[[\"player1_name\", \"player1_age\", \"player1_atprank\", \"player1_plays\", \"player1_wins\", \"player1_losses\", \"player1_height\", \"player1_weight\", \"player1_oddsB365\",\n",
    "        \"player2_name\", \"player2_age\", \"player2_atprank\", \"player2_plays\", \"player2_wins\", \"player2_losses\", \"player2_height\", \"player2_weight\", \"player2_oddsB365\",\n",
    "        \"match_date\"]]\n",
    "y = df.winner_player1\n",
    "\n",
    "X_train, X_test, y_train, y_test = train_test_split(X, y, test_size=0.20, random_state=123)# shuffle=False)"
   ]
  },
  {
   "cell_type": "code",
   "execution_count": 3,
   "metadata": {},
   "outputs": [
    {
     "data": {
      "text/html": [
       "<div>\n",
       "<style scoped>\n",
       "    .dataframe tbody tr th:only-of-type {\n",
       "        vertical-align: middle;\n",
       "    }\n",
       "\n",
       "    .dataframe tbody tr th {\n",
       "        vertical-align: top;\n",
       "    }\n",
       "\n",
       "    .dataframe thead th {\n",
       "        text-align: right;\n",
       "    }\n",
       "</style>\n",
       "<table border=\"1\" class=\"dataframe\">\n",
       "  <thead>\n",
       "    <tr style=\"text-align: right;\">\n",
       "      <th></th>\n",
       "      <th>player1_age</th>\n",
       "      <th>player1_atprank</th>\n",
       "      <th>player1_plays</th>\n",
       "      <th>player1_wins</th>\n",
       "      <th>player1_losses</th>\n",
       "      <th>player1_height</th>\n",
       "      <th>player1_weight</th>\n",
       "      <th>player1_oddsB365</th>\n",
       "      <th>player2_age</th>\n",
       "      <th>player2_atprank</th>\n",
       "      <th>player2_plays</th>\n",
       "      <th>player2_wins</th>\n",
       "      <th>player2_losses</th>\n",
       "      <th>player2_height</th>\n",
       "      <th>player2_weight</th>\n",
       "      <th>player2_oddsB365</th>\n",
       "    </tr>\n",
       "  </thead>\n",
       "  <tbody>\n",
       "    <tr>\n",
       "      <th>11623</th>\n",
       "      <td>31.603012</td>\n",
       "      <td>71.0</td>\n",
       "      <td>177</td>\n",
       "      <td>99</td>\n",
       "      <td>78</td>\n",
       "      <td>183.0</td>\n",
       "      <td>77.0</td>\n",
       "      <td>4.33</td>\n",
       "      <td>27.895962</td>\n",
       "      <td>30.0</td>\n",
       "      <td>189</td>\n",
       "      <td>125</td>\n",
       "      <td>64</td>\n",
       "      <td>188.0</td>\n",
       "      <td>84.0</td>\n",
       "      <td>1.19</td>\n",
       "    </tr>\n",
       "    <tr>\n",
       "      <th>35205</th>\n",
       "      <td>29.730322</td>\n",
       "      <td>84.0</td>\n",
       "      <td>316</td>\n",
       "      <td>139</td>\n",
       "      <td>177</td>\n",
       "      <td>191.0</td>\n",
       "      <td>80.0</td>\n",
       "      <td>2.62</td>\n",
       "      <td>19.137577</td>\n",
       "      <td>44.0</td>\n",
       "      <td>63</td>\n",
       "      <td>32</td>\n",
       "      <td>31</td>\n",
       "      <td>188.0</td>\n",
       "      <td>85.0</td>\n",
       "      <td>1.44</td>\n",
       "    </tr>\n",
       "    <tr>\n",
       "      <th>42217</th>\n",
       "      <td>37.177276</td>\n",
       "      <td>2.0</td>\n",
       "      <td>1078</td>\n",
       "      <td>929</td>\n",
       "      <td>149</td>\n",
       "      <td>185.0</td>\n",
       "      <td>85.0</td>\n",
       "      <td>1.40</td>\n",
       "      <td>28.785763</td>\n",
       "      <td>12.0</td>\n",
       "      <td>445</td>\n",
       "      <td>306</td>\n",
       "      <td>139</td>\n",
       "      <td>178.0</td>\n",
       "      <td>73.0</td>\n",
       "      <td>3.00</td>\n",
       "    </tr>\n",
       "    <tr>\n",
       "      <th>51489</th>\n",
       "      <td>23.813826</td>\n",
       "      <td>85.0</td>\n",
       "      <td>120</td>\n",
       "      <td>50</td>\n",
       "      <td>70</td>\n",
       "      <td>196.0</td>\n",
       "      <td>78.0</td>\n",
       "      <td>2.20</td>\n",
       "      <td>29.730322</td>\n",
       "      <td>62.0</td>\n",
       "      <td>113</td>\n",
       "      <td>54</td>\n",
       "      <td>59</td>\n",
       "      <td>185.0</td>\n",
       "      <td>85.0</td>\n",
       "      <td>1.67</td>\n",
       "    </tr>\n",
       "    <tr>\n",
       "      <th>42795</th>\n",
       "      <td>31.091034</td>\n",
       "      <td>93.0</td>\n",
       "      <td>224</td>\n",
       "      <td>107</td>\n",
       "      <td>117</td>\n",
       "      <td>188.0</td>\n",
       "      <td>76.0</td>\n",
       "      <td>1.66</td>\n",
       "      <td>23.778234</td>\n",
       "      <td>103.0</td>\n",
       "      <td>16</td>\n",
       "      <td>7</td>\n",
       "      <td>9</td>\n",
       "      <td>191.0</td>\n",
       "      <td>76.0</td>\n",
       "      <td>2.10</td>\n",
       "    </tr>\n",
       "  </tbody>\n",
       "</table>\n",
       "</div>"
      ],
      "text/plain": [
       "       player1_age  player1_atprank  player1_plays  player1_wins  \\\n",
       "11623    31.603012             71.0            177            99   \n",
       "35205    29.730322             84.0            316           139   \n",
       "42217    37.177276              2.0           1078           929   \n",
       "51489    23.813826             85.0            120            50   \n",
       "42795    31.091034             93.0            224           107   \n",
       "\n",
       "       player1_losses  player1_height  player1_weight  player1_oddsB365  \\\n",
       "11623              78           183.0            77.0              4.33   \n",
       "35205             177           191.0            80.0              2.62   \n",
       "42217             149           185.0            85.0              1.40   \n",
       "51489              70           196.0            78.0              2.20   \n",
       "42795             117           188.0            76.0              1.66   \n",
       "\n",
       "       player2_age  player2_atprank  player2_plays  player2_wins  \\\n",
       "11623    27.895962             30.0            189           125   \n",
       "35205    19.137577             44.0             63            32   \n",
       "42217    28.785763             12.0            445           306   \n",
       "51489    29.730322             62.0            113            54   \n",
       "42795    23.778234            103.0             16             7   \n",
       "\n",
       "       player2_losses  player2_height  player2_weight  player2_oddsB365  \n",
       "11623              64           188.0            84.0              1.19  \n",
       "35205              31           188.0            85.0              1.44  \n",
       "42217             139           178.0            73.0              3.00  \n",
       "51489              59           185.0            85.0              1.67  \n",
       "42795               9           191.0            76.0              2.10  "
      ]
     },
     "execution_count": 3,
     "metadata": {},
     "output_type": "execute_result"
    }
   ],
   "source": [
    "from sklearn import preprocessing\n",
    "\n",
    "col_to_drop = [\"player1_name\", \"player2_name\", \"match_date\"]\n",
    "X_train_filtered = X_train.drop(col_to_drop,axis=1)\n",
    "X_test_filtered = X_test.drop(col_to_drop,axis=1)\n",
    "\n",
    "X_train_filtered.head()"
   ]
  },
  {
   "cell_type": "code",
   "execution_count": 25,
   "metadata": {},
   "outputs": [
    {
     "data": {
      "text/plain": [
       "(31156, 16)"
      ]
     },
     "execution_count": 25,
     "metadata": {},
     "output_type": "execute_result"
    }
   ],
   "source": [
    "X_train_filtered.shape"
   ]
  },
  {
   "cell_type": "code",
   "execution_count": 33,
   "metadata": {},
   "outputs": [],
   "source": [
    "import tensorflow as tf\n",
    "import keras\n",
    "from keras.layers import Dense\n",
    "\n",
    "# Sequential\n",
    "model = keras.Sequential()\n",
    "# Hidden layer 1\n",
    "model.add(Dense(16, activation='relu'))\n",
    "\n",
    "# Output Layer\n",
    "model.add(Dense(1, activation='sigmoid'))\n",
    "\n",
    "model.compile(optimizer='adam', loss='binary_crossentropy', metrics=['accuracy'])"
   ]
  },
  {
   "cell_type": "code",
   "execution_count": 34,
   "metadata": {},
   "outputs": [
    {
     "name": "stdout",
     "output_type": "stream",
     "text": [
      "Epoch 1/20\n",
      "312/312 [==============================] - 1s 952us/step - loss: 6.4539 - accuracy: 0.5661 - val_loss: 1.3680 - val_accuracy: 0.5902\n",
      "Epoch 2/20\n",
      "312/312 [==============================] - 0s 730us/step - loss: 1.0692 - accuracy: 0.6052 - val_loss: 0.8503 - val_accuracy: 0.6137\n",
      "Epoch 3/20\n",
      "312/312 [==============================] - 0s 714us/step - loss: 0.7719 - accuracy: 0.6259 - val_loss: 0.7161 - val_accuracy: 0.6345\n",
      "Epoch 4/20\n",
      "312/312 [==============================] - 0s 711us/step - loss: 0.6886 - accuracy: 0.6343 - val_loss: 0.6806 - val_accuracy: 0.6399\n",
      "Epoch 5/20\n",
      "312/312 [==============================] - 0s 708us/step - loss: 0.6614 - accuracy: 0.6419 - val_loss: 0.6465 - val_accuracy: 0.6434\n",
      "Epoch 6/20\n",
      "312/312 [==============================] - 0s 731us/step - loss: 0.6454 - accuracy: 0.6454 - val_loss: 0.6387 - val_accuracy: 0.6540\n",
      "Epoch 7/20\n",
      "312/312 [==============================] - 0s 728us/step - loss: 0.6307 - accuracy: 0.6561 - val_loss: 0.6431 - val_accuracy: 0.6507\n",
      "Epoch 8/20\n",
      "312/312 [==============================] - 0s 717us/step - loss: 0.6239 - accuracy: 0.6627 - val_loss: 0.6164 - val_accuracy: 0.6624\n",
      "Epoch 9/20\n",
      "312/312 [==============================] - 0s 721us/step - loss: 0.6170 - accuracy: 0.6632 - val_loss: 0.6128 - val_accuracy: 0.6626\n",
      "Epoch 10/20\n",
      "312/312 [==============================] - 0s 719us/step - loss: 0.6105 - accuracy: 0.6685 - val_loss: 0.6106 - val_accuracy: 0.6684\n",
      "Epoch 11/20\n",
      "312/312 [==============================] - 0s 717us/step - loss: 0.6111 - accuracy: 0.6663 - val_loss: 0.6153 - val_accuracy: 0.6650\n",
      "Epoch 12/20\n",
      "312/312 [==============================] - 0s 717us/step - loss: 0.6066 - accuracy: 0.6730 - val_loss: 0.5979 - val_accuracy: 0.6692\n",
      "Epoch 13/20\n",
      "312/312 [==============================] - 0s 717us/step - loss: 0.6036 - accuracy: 0.6728 - val_loss: 0.5975 - val_accuracy: 0.6723\n",
      "Epoch 14/20\n",
      "312/312 [==============================] - 0s 719us/step - loss: 0.6008 - accuracy: 0.6741 - val_loss: 0.6125 - val_accuracy: 0.6529\n",
      "Epoch 15/20\n",
      "312/312 [==============================] - 0s 727us/step - loss: 0.6040 - accuracy: 0.6703 - val_loss: 0.6100 - val_accuracy: 0.6694\n",
      "Epoch 16/20\n",
      "312/312 [==============================] - 0s 714us/step - loss: 0.5962 - accuracy: 0.6769 - val_loss: 0.5965 - val_accuracy: 0.6768\n",
      "Epoch 17/20\n",
      "312/312 [==============================] - 0s 714us/step - loss: 0.5984 - accuracy: 0.6770 - val_loss: 0.5963 - val_accuracy: 0.6819\n",
      "Epoch 18/20\n",
      "312/312 [==============================] - 0s 706us/step - loss: 0.5989 - accuracy: 0.6767 - val_loss: 0.5939 - val_accuracy: 0.6760\n",
      "Epoch 19/20\n",
      "312/312 [==============================] - 0s 717us/step - loss: 0.6001 - accuracy: 0.6778 - val_loss: 0.6101 - val_accuracy: 0.6751\n",
      "Epoch 20/20\n",
      "312/312 [==============================] - 0s 720us/step - loss: 0.5969 - accuracy: 0.6773 - val_loss: 0.5963 - val_accuracy: 0.6724\n"
     ]
    },
    {
     "data": {
      "image/png": "[encoded data removed]",
      "text/plain": [
       "<Figure size 1200x400 with 2 Axes>"
      ]
     },
     "metadata": {},
     "output_type": "display_data"
    }
   ],
   "source": [
    "history = model.fit(X_train_filtered, y_train,                        # Training dataset\n",
    "                        epochs = 20,                         # Number of epochs\n",
    "                        batch_size = 100,                     # Len of batch\n",
    "                        validation_data=(X_test_filtered, y_test))    # Validation dataset\n",
    "\n",
    "import matplotlib.pyplot as plt\n",
    "\n",
    "plt.figure(figsize=(12,4))\n",
    "\n",
    "plt.subplot(121)\n",
    "plt.plot(history.history['loss'])\n",
    "plt.plot(history.history['val_loss'])\n",
    "plt.title('Model loss by epoch')\n",
    "plt.ylabel('loss')\n",
    "plt.xlabel('epoch')\n",
    "plt.legend(['train', 'test'], loc='right')\n",
    "\n",
    "plt.subplot(122)\n",
    "plt.plot(history.history['accuracy'])\n",
    "plt.plot(history.history['val_accuracy'])\n",
    "plt.title('Model accuracy by epoch')\n",
    "plt.ylabel('accuracy')\n",
    "plt.xlabel('epoch')\n",
    "plt.legend(['train', 'test'], loc='right')\n",
    "plt.show()"
   ]
  },
  {
   "cell_type": "code",
   "execution_count": 32,
   "metadata": {},
   "outputs": [
    {
     "name": "stdout",
     "output_type": "stream",
     "text": [
      "244/244 [==============================] - 0s 443us/step\n",
      "[[0.17316073]\n",
      " [0.69597924]\n",
      " [0.4159177 ]\n",
      " ...\n",
      " [0.40358415]\n",
      " [0.2964575 ]\n",
      " [0.3238533 ]]\n"
     ]
    }
   ],
   "source": [
    "from sklearn.metrics import accuracy_score\n",
    "y_predict = model.predict(X_test_filtered)\n",
    "print(y_predict)\n",
    "#print(y_test)\n",
    "#print('Accuracy :', accuracy_score(y_predict, y_test))"
   ]
  },
  {
   "cell_type": "code",
   "execution_count": null,
   "metadata": {},
   "outputs": [],
   "source": []
  }
 ],
 "metadata": {
  "kernelspec": {
   "display_name": "env",
   "language": "python",
   "name": "python3"
  },
  "language_info": {
   "codemirror_mode": {
    "name": "ipython",
    "version": 3
   },
   "file_extension": ".py",
   "mimetype": "text/x-python",
   "name": "python",
   "nbconvert_exporter": "python",
   "pygments_lexer": "ipython3",
   "version": "3.11.2"
  },
  "orig_nbformat": 4
 },
 "nbformat": 4,
 "nbformat_minor": 2
}
