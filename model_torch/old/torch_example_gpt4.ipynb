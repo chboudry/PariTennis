{
 "cells": [
  {
   "cell_type": "code",
   "execution_count": 1,
   "metadata": {},
   "outputs": [
    {
     "name": "stdout",
     "output_type": "stream",
     "text": [
      "Epoch 0, Loss: 0.711262047290802\n",
      "Epoch 10, Loss: 5.4327330872183666e-05\n",
      "Epoch 20, Loss: 0.0\n",
      "Epoch 30, Loss: 0.0\n",
      "Epoch 40, Loss: 0.0\n",
      "Epoch 50, Loss: 0.0\n",
      "Epoch 60, Loss: 0.0\n",
      "Epoch 70, Loss: 0.0\n",
      "Epoch 80, Loss: 0.0\n",
      "Epoch 90, Loss: 0.0\n"
     ]
    },
    {
     "ename": "RuntimeError",
     "evalue": "Sizes of tensors must match except in dimension 1. Expected size 4 but got size 1 for tensor number 1 in the list.",
     "output_type": "error",
     "traceback": [
      "\u001b[1;31m---------------------------------------------------------------------------\u001b[0m",
      "\u001b[1;31mRuntimeError\u001b[0m                              Traceback (most recent call last)",
      "\u001b[1;32mf:\\CODE\\ParisTennis\\model_torch\\torch_example_gpt4.ipynb Cell 1\u001b[0m line \u001b[0;36m8\n\u001b[0;32m     <a href='vscode-notebook-cell:/f%3A/CODE/ParisTennis/model_torch/torch_example_gpt4.ipynb#W0sZmlsZQ%3D%3D?line=82'>83</a>\u001b[0m single_edge_index \u001b[39m=\u001b[39m torch\u001b[39m.\u001b[39mtensor([[\u001b[39m0\u001b[39m], [\u001b[39m1\u001b[39m]], dtype\u001b[39m=\u001b[39mtorch\u001b[39m.\u001b[39mlong)  \u001b[39m# Edge from 0 to 1\u001b[39;00m\n\u001b[0;32m     <a href='vscode-notebook-cell:/f%3A/CODE/ParisTennis/model_torch/torch_example_gpt4.ipynb#W0sZmlsZQ%3D%3D?line=83'>84</a>\u001b[0m single_edge_attr \u001b[39m=\u001b[39m torch\u001b[39m.\u001b[39mrandn(\u001b[39m1\u001b[39m, \u001b[39m8\u001b[39m)  \u001b[39m# Edge features for the single edge\u001b[39;00m\n\u001b[1;32m---> <a href='vscode-notebook-cell:/f%3A/CODE/ParisTennis/model_torch/torch_example_gpt4.ipynb#W0sZmlsZQ%3D%3D?line=84'>85</a>\u001b[0m single_edge_logits \u001b[39m=\u001b[39m model(data\u001b[39m.\u001b[39;49mx, single_edge_index, single_edge_attr)\n\u001b[0;32m     <a href='vscode-notebook-cell:/f%3A/CODE/ParisTennis/model_torch/torch_example_gpt4.ipynb#W0sZmlsZQ%3D%3D?line=86'>87</a>\u001b[0m \u001b[39m# Make a prediction (you can use a threshold if needed)\u001b[39;00m\n\u001b[0;32m     <a href='vscode-notebook-cell:/f%3A/CODE/ParisTennis/model_torch/torch_example_gpt4.ipynb#W0sZmlsZQ%3D%3D?line=87'>88</a>\u001b[0m prediction \u001b[39m=\u001b[39m torch\u001b[39m.\u001b[39msigmoid(single_edge_logits)\u001b[39m.\u001b[39mitem()\n",
      "File \u001b[1;32mf:\\CODE\\ParisTennis\\env\\Lib\\site-packages\\torch\\nn\\modules\\module.py:1501\u001b[0m, in \u001b[0;36mModule._call_impl\u001b[1;34m(self, *args, **kwargs)\u001b[0m\n\u001b[0;32m   1496\u001b[0m \u001b[39m# If we don't have any hooks, we want to skip the rest of the logic in\u001b[39;00m\n\u001b[0;32m   1497\u001b[0m \u001b[39m# this function, and just call forward.\u001b[39;00m\n\u001b[0;32m   1498\u001b[0m \u001b[39mif\u001b[39;00m \u001b[39mnot\u001b[39;00m (\u001b[39mself\u001b[39m\u001b[39m.\u001b[39m_backward_hooks \u001b[39mor\u001b[39;00m \u001b[39mself\u001b[39m\u001b[39m.\u001b[39m_backward_pre_hooks \u001b[39mor\u001b[39;00m \u001b[39mself\u001b[39m\u001b[39m.\u001b[39m_forward_hooks \u001b[39mor\u001b[39;00m \u001b[39mself\u001b[39m\u001b[39m.\u001b[39m_forward_pre_hooks\n\u001b[0;32m   1499\u001b[0m         \u001b[39mor\u001b[39;00m _global_backward_pre_hooks \u001b[39mor\u001b[39;00m _global_backward_hooks\n\u001b[0;32m   1500\u001b[0m         \u001b[39mor\u001b[39;00m _global_forward_hooks \u001b[39mor\u001b[39;00m _global_forward_pre_hooks):\n\u001b[1;32m-> 1501\u001b[0m     \u001b[39mreturn\u001b[39;00m forward_call(\u001b[39m*\u001b[39;49margs, \u001b[39m*\u001b[39;49m\u001b[39m*\u001b[39;49mkwargs)\n\u001b[0;32m   1502\u001b[0m \u001b[39m# Do not call functions when jit is used\u001b[39;00m\n\u001b[0;32m   1503\u001b[0m full_backward_hooks, non_full_backward_hooks \u001b[39m=\u001b[39m [], []\n",
      "\u001b[1;32mf:\\CODE\\ParisTennis\\model_torch\\torch_example_gpt4.ipynb Cell 1\u001b[0m line \u001b[0;36m3\n\u001b[0;32m     <a href='vscode-notebook-cell:/f%3A/CODE/ParisTennis/model_torch/torch_example_gpt4.ipynb#W0sZmlsZQ%3D%3D?line=26'>27</a>\u001b[0m edge_attr \u001b[39m=\u001b[39m F\u001b[39m.\u001b[39mrelu(\u001b[39mself\u001b[39m\u001b[39m.\u001b[39medge_embedding(edge_attr))\n\u001b[0;32m     <a href='vscode-notebook-cell:/f%3A/CODE/ParisTennis/model_torch/torch_example_gpt4.ipynb#W0sZmlsZQ%3D%3D?line=28'>29</a>\u001b[0m \u001b[39m# Combine node and edge embeddings\u001b[39;00m\n\u001b[1;32m---> <a href='vscode-notebook-cell:/f%3A/CODE/ParisTennis/model_torch/torch_example_gpt4.ipynb#W0sZmlsZQ%3D%3D?line=29'>30</a>\u001b[0m x \u001b[39m=\u001b[39m torch\u001b[39m.\u001b[39;49mcat((x, edge_attr), dim\u001b[39m=\u001b[39;49m\u001b[39m-\u001b[39;49m\u001b[39m1\u001b[39;49m)\n\u001b[0;32m     <a href='vscode-notebook-cell:/f%3A/CODE/ParisTennis/model_torch/torch_example_gpt4.ipynb#W0sZmlsZQ%3D%3D?line=31'>32</a>\u001b[0m \u001b[39m# Apply GraphSAGE layers\u001b[39;00m\n\u001b[0;32m     <a href='vscode-notebook-cell:/f%3A/CODE/ParisTennis/model_torch/torch_example_gpt4.ipynb#W0sZmlsZQ%3D%3D?line=32'>33</a>\u001b[0m x \u001b[39m=\u001b[39m F\u001b[39m.\u001b[39mrelu(\u001b[39mself\u001b[39m\u001b[39m.\u001b[39mconv1(x, edge_index))\n",
      "\u001b[1;31mRuntimeError\u001b[0m: Sizes of tensors must match except in dimension 1. Expected size 4 but got size 1 for tensor number 1 in the list."
     ]
    }
   ],
   "source": [
    "import torch\n",
    "import torch.nn as nn\n",
    "import torch.nn.functional as F\n",
    "from torch_geometric.nn import NNConv\n",
    "from torch_geometric.data import Data\n",
    "from torch_geometric.utils import negative_sampling\n",
    "\n",
    "# Define a simple Graph Neural Network (GNN) model for edge direction prediction\n",
    "class EdgeDirectionPredictionModel(nn.Module):\n",
    "    def __init__(self, in_node_features, in_edge_features, hidden_channels):\n",
    "        super(EdgeDirectionPredictionModel, self).__init__()\n",
    "\n",
    "        # Node and edge feature embeddings\n",
    "        self.node_embedding = nn.Linear(in_node_features, hidden_channels)\n",
    "        self.edge_embedding = nn.Linear(in_edge_features, hidden_channels)\n",
    "\n",
    "        # GraphSAGE layers\n",
    "        self.conv1 = NNConv(hidden_channels * 2, hidden_channels)\n",
    "        self.conv2 = NNConv(hidden_channels, hidden_channels)\n",
    "\n",
    "        # Output layer for binary classification\n",
    "        self.fc = nn.Linear(hidden_channels * 2, 1)  # Output size is 1 for binary classification\n",
    "\n",
    "    def forward(self, x, edge_index, edge_attr):\n",
    "        # Apply NNConv layers\n",
    "        x = F.relu(self.conv1(x, edge_index, edge_attr))\n",
    "        x = F.relu(self.conv2(x, edge_index, edge_attr))\n",
    "\n",
    "        # Pairwise combination of node embeddings for edge prediction\n",
    "        edge_pairs = torch.cat((x[edge_index[0]], x[edge_index[1]]), dim=1)\n",
    "\n",
    "        # Fully connected layer for binary classification (edge direction)\n",
    "        x = self.fc(edge_pairs)\n",
    "\n",
    "        return x\n",
    "\n",
    "# Create a synthetic directed graph with node and edge features\n",
    "edge_index = torch.tensor([[0, 1, 2, 3], [1, 2, 3, 0]], dtype=torch.long)  # Directed edges\n",
    "x = torch.randn(4, 16)  # Node features\n",
    "edge_attr = torch.randn(4, 8)  # Edge features (e.g., attributes of edges)\n",
    "\n",
    "# Create labels for edge directions (1 for A to B, 0 for B to A)\n",
    "labels = torch.tensor([1, 1, 0, 0], dtype=torch.float)\n",
    "\n",
    "# Create a PyTorch Geometric Data object\n",
    "data = Data(x=x, edge_index=edge_index, edge_attr=edge_attr, y=labels)\n",
    "\n",
    "# Define the GNN model\n",
    "model = EdgeDirectionPredictionModel(in_node_features=16, in_edge_features=8, hidden_channels=32)\n",
    "\n",
    "# Define a binary classification loss function (BCEWithLogitsLoss)\n",
    "criterion = nn.BCEWithLogitsLoss()\n",
    "\n",
    "# Define an optimizer (e.g., Adam)\n",
    "optimizer = torch.optim.Adam(model.parameters(), lr=0.01)\n",
    "\n",
    "# Training loop\n",
    "for epoch in range(100):\n",
    "    optimizer.zero_grad()\n",
    "\n",
    "    # Predict edge directions\n",
    "    logits = model(data.x, data.edge_index, data.edge_attr)\n",
    "\n",
    "    # Calculate the binary classification loss\n",
    "    loss = criterion(logits.squeeze(), data.y)\n",
    "\n",
    "    # Backpropagation\n",
    "    loss.backward()\n",
    "    optimizer.step()\n",
    "\n",
    "    if epoch % 10 == 0:\n",
    "        print(f'Epoch {epoch}, Loss: {loss.item()}')\n",
    "\n",
    "# After training, you can predict the direction of a single edge with edge features\n",
    "# For example, to predict the direction of an edge from node 0 to node 1\n",
    "single_edge_index = torch.tensor([[0], [1]], dtype=torch.long)  # Edge from 0 to 1\n",
    "single_edge_attr = torch.randn(1, 8)  # Edge features for the single edge\n",
    "single_edge_logits = model(data.x, single_edge_index, single_edge_attr)\n",
    "\n",
    "# Make a prediction (you can use a threshold if needed)\n",
    "prediction = torch.sigmoid(single_edge_logits).item()\n",
    "print(f'Prediction for edge (0 -> 1): {prediction}')\n"
   ]
  },
  {
   "cell_type": "code",
   "execution_count": 2,
   "metadata": {},
   "outputs": [
    {
     "data": {
      "text/plain": [
       "Data(x=[4, 16], edge_index=[2, 4], edge_attr=[4, 8], y=[4])"
      ]
     },
     "execution_count": 2,
     "metadata": {},
     "output_type": "execute_result"
    }
   ],
   "source": [
    "data"
   ]
  },
  {
   "cell_type": "code",
   "execution_count": 4,
   "metadata": {},
   "outputs": [
    {
     "data": {
      "text/plain": [
       "tensor([0, 1, 2, 3])"
      ]
     },
     "execution_count": 4,
     "metadata": {},
     "output_type": "execute_result"
    }
   ],
   "source": [
    "edge_index[0]"
   ]
  },
  {
   "cell_type": "code",
   "execution_count": 10,
   "metadata": {},
   "outputs": [
    {
     "data": {
      "text/plain": [
       "tensor([[-0.3780, -0.0895, -0.7423, -3.1009, -0.0369,  0.9758, -0.5607,  0.5412,\n",
       "         -0.0240,  1.4392,  0.4660, -1.3272, -1.5561, -1.9406,  0.8731,  0.5163],\n",
       "        [-0.8288,  1.5572, -0.1635,  0.4426,  0.6115, -0.7658,  0.3615, -0.0908,\n",
       "          1.0235, -1.7073,  0.2634, -0.1714,  1.0694,  1.2531,  0.7995, -1.8892],\n",
       "        [-0.3652,  1.7381,  0.5900,  0.9933, -0.2686, -1.1239, -0.5722, -0.2785,\n",
       "         -0.9907, -0.1474, -0.1222, -0.5758, -1.2241, -0.4331,  1.2500,  0.6371],\n",
       "        [-0.6630,  1.8745,  1.6405,  0.3374,  0.4381, -0.8106,  0.1468, -1.0950,\n",
       "         -0.0608, -0.2938, -0.0285, -0.8962, -0.8278, -1.0560,  0.6829,  0.9871]])"
      ]
     },
     "execution_count": 10,
     "metadata": {},
     "output_type": "execute_result"
    }
   ],
   "source": [
    "x[edge_index[0]]"
   ]
  },
  {
   "cell_type": "code",
   "execution_count": 11,
   "metadata": {},
   "outputs": [
    {
     "data": {
      "text/plain": [
       "tensor([1, 2, 3, 0])"
      ]
     },
     "execution_count": 11,
     "metadata": {},
     "output_type": "execute_result"
    }
   ],
   "source": [
    "edge_index[1]"
   ]
  },
  {
   "cell_type": "code",
   "execution_count": 9,
   "metadata": {},
   "outputs": [
    {
     "data": {
      "text/plain": [
       "tensor([[-0.8288,  1.5572, -0.1635,  0.4426,  0.6115, -0.7658,  0.3615, -0.0908,\n",
       "          1.0235, -1.7073,  0.2634, -0.1714,  1.0694,  1.2531,  0.7995, -1.8892],\n",
       "        [-0.3652,  1.7381,  0.5900,  0.9933, -0.2686, -1.1239, -0.5722, -0.2785,\n",
       "         -0.9907, -0.1474, -0.1222, -0.5758, -1.2241, -0.4331,  1.2500,  0.6371],\n",
       "        [-0.6630,  1.8745,  1.6405,  0.3374,  0.4381, -0.8106,  0.1468, -1.0950,\n",
       "         -0.0608, -0.2938, -0.0285, -0.8962, -0.8278, -1.0560,  0.6829,  0.9871],\n",
       "        [-0.3780, -0.0895, -0.7423, -3.1009, -0.0369,  0.9758, -0.5607,  0.5412,\n",
       "         -0.0240,  1.4392,  0.4660, -1.3272, -1.5561, -1.9406,  0.8731,  0.5163]])"
      ]
     },
     "execution_count": 9,
     "metadata": {},
     "output_type": "execute_result"
    }
   ],
   "source": [
    "x[edge_index[1]]"
   ]
  },
  {
   "cell_type": "code",
   "execution_count": 25,
   "metadata": {},
   "outputs": [
    {
     "name": "stdout",
     "output_type": "stream",
     "text": [
      "tensor([[0, 1, 2, 3],\n",
      "        [1, 2, 3, 0]])\n",
      "tensor([[0],\n",
      "        [1]])\n",
      "tensor([[15.6966]], grad_fn=<AddmmBackward0>)\n"
     ]
    }
   ],
   "source": [
    "single_edge_index = torch.tensor([[0], [1]], dtype=torch.long)  # Edge from 0 to 1\n",
    "#single_edge_index = torch.tensor([[0, 1],[1, 0]], dtype=torch.long)  # Edge from 0 to 1\n",
    "single_edge_logits = model(data.x, single_edge_index)\n",
    "\n",
    "test_logits = model(data.x, single_edge_index)\n",
    "test_pred_labels = (test_logits.squeeze() > 0).float()\n",
    "\n",
    "print(edge_index)\n",
    "print(single_edge_index)\n",
    "print(test_logits)\n",
    "# Calculate accuracy on the test data\n",
    "#test_accuracy = accuracy_score(data.y.cpu().numpy(), test_pred_labels)\n",
    "#print(f'Test Accuracy: {test_accuracy * 100:.2f}%')"
   ]
  },
  {
   "cell_type": "code",
   "execution_count": null,
   "metadata": {},
   "outputs": [],
   "source": []
  }
 ],
 "metadata": {
  "kernelspec": {
   "display_name": "env",
   "language": "python",
   "name": "python3"
  },
  "language_info": {
   "codemirror_mode": {
    "name": "ipython",
    "version": 3
   },
   "file_extension": ".py",
   "mimetype": "text/x-python",
   "name": "python",
   "nbconvert_exporter": "python",
   "pygments_lexer": "ipython3",
   "version": "3.11.2"
  },
  "orig_nbformat": 4
 },
 "nbformat": 4,
 "nbformat_minor": 2
}
